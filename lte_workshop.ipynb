{
 "cells": [
  {
   "cell_type": "markdown",
   "id": "ab432107-8268-48e7-8522-d6e6f2d96e73",
   "metadata": {},
   "source": [
    "# Laplacian Trajectory Editing (LTE)\n",
    "\n",
    "In this workshop you will be using Learning from Demonstration (LfD) to move a robotic manipulator. LfD is an intuitive way to teach robots new skills, where a demonstrator shows a task which the robot can learn from and generalize to new situations. Today, we will be looking at Laplacian Trajectory Editing, detailed here: https://mediatum.ub.tum.de/doc/1238865/905710.pdf. This method deforms demonstrated trajectories in curvature space such that they maintain their shape. This can be very useful for tasks such as writing, and is applicable to many other tasks. \n",
    "\n",
    "The main steps of LTE are as follows:\n",
    "1. Set up the Laplacian (L) matrix.\n",
    "2. Use the Laplacian to transform the demonstration into Laplacian space (which represents curvature).\n",
    "3. Apply constraints and corresponding weights in Laplacian space.\n",
    "4. Use the inverse transform to get back to the demonstrated coordinate space.\n",
    "\n",
    "We will go through each of these steps individually."
   ]
  },
  {
   "cell_type": "markdown",
   "id": "d6997f97-d3fe-4632-89ad-92ef36096ee4",
   "metadata": {},
   "source": [
    "## Step 1: Set up the Laplacian\n",
    "\n",
    "The first step is setting up a Laplacian transformation matrix $\\boldsymbol{L}$. This matrix, applied to a vector of points, transforms the points into their Laplacian space representation. In the referenced paper, this matrix is defined as\n",
    "\n",
    "\\begin{equation}\n",
    "\\boldsymbol{L} = \\frac{1}{2}\n",
    "\\begin{bmatrix}\n",
    " 2 & -2 &  0 &  0 & \\cdots & 0 \\\\\n",
    "-1 &  2 & -1 &  0 & \\cdots & 0 \\\\\n",
    " 0 & -1 &  2 & -1 & \\cdots & 0 \\\\\n",
    "\\vdots & \\ddots & \\ddots & \\ddots & \\ddots & \\vdots\\\\\n",
    "0 & \\cdots & 0 & -1 &  2 & -1   \\\\\n",
    "0 & \\cdots & 0 &  0 & -2 &  2   \\\\\n",
    "\\end{bmatrix}, \n",
    "\\end{equation}\n",
    "\n",
    "where the size of the matrix is determined by the number of points in the given vector. We will fill in the necessary code to create this Laplacian matrix."
   ]
  },
  {
   "cell_type": "code",
   "execution_count": 1,
   "id": "7000f447-f7ec-4fef-ad1f-e998a1fac047",
   "metadata": {},
   "outputs": [],
   "source": [
    "import numpy as np\n",
    "import matplotlib.pyplot as plt\n",
    "from mpl_toolkits.mplot3d import Axes3D \n",
    "\n",
    "def generate_laplacian(n_pts):\n",
    "    L = 2.*np.diag(np.ones((n_pts,))) - np.diag(np.ones((n_pts-1,)),1) - np.diag(np.ones((n_pts-1,)),-1)\n",
    "    L[0,1] = -2.\n",
    "    L[-1,-2] = -2.\n",
    "    L = L / 2.\n",
    "    return L"
   ]
  },
  {
   "cell_type": "markdown",
   "id": "0be53ba0-4a8b-44d1-8d97-76fc27b3e284",
   "metadata": {},
   "source": [
    "## Step 2: Transform to Laplacian Space\n",
    "\n",
    "Next, we will use the generated Laplacian matrix to transform the given demonstration ($\\boldsymbol{P}$) to the Laplacian space, where it retains the curvature information. This transformed matrix is denoted as $\\boldsymbol{\\Delta}$. This transformation is done using the following equation:\n",
    "\n",
    "\\begin{equation}\n",
    "\\boldsymbol{L} \\boldsymbol{P} = \\boldsymbol{\\Delta}\n",
    "\\end{equation}\n",
    "\n",
    "Please fill out the following function to complete this step:"
   ]
  },
  {
   "cell_type": "code",
   "execution_count": 2,
   "id": "a23942f9-744b-402c-a373-019670123f7c",
   "metadata": {},
   "outputs": [],
   "source": [
    "def laplacian_transform(L, P):\n",
    "    D = None\n",
    "    #fill in here\n",
    "    return D"
   ]
  },
  {
   "cell_type": "markdown",
   "id": "e76de0ce-7943-4eca-b2af-b4444b8bd921",
   "metadata": {},
   "source": [
    "## Step 3: Append Constraints and Weights\n",
    "\n",
    "Next we will add constraints and weights in Laplacian space such that when we perform the inverse transform back into the demonstration space, these constraints are met while maintaining the curvature of the demonstration. This allows the LfD representation to perform generalization, an important feature of robot learning. The ability to generalize means that a robot can apply skills to different situations, without having been shown examples in those specific situations. These constraints are applied using concatenation of matrices as\n",
    "\n",
    "\\begin{equation}\n",
    "\\boldsymbol{L}' = \n",
    "\\begin{bmatrix}\n",
    "\\boldsymbol{L} \\\\\n",
    "\\boldsymbol{\\bar{P}}  \\\\\\end{bmatrix}, \n",
    "\\end{equation}\n",
    "\n",
    "and\n",
    "\n",
    "\\begin{equation}\n",
    "\\boldsymbol{\\Delta}' = \n",
    "\\begin{bmatrix}\n",
    "\\boldsymbol{\\Delta} \\\\\n",
    "\\boldsymbol{\\bar{C}}  \\\\\\end{bmatrix}, \n",
    "\\end{equation}\n",
    "\n",
    "where $\\boldsymbol{L}'$ and $\\boldsymbol{\\Delta}'$ are the concatenated matrices, and $\\boldsymbol{\\bar{P}}$ are the constrained points and \n",
    "$\\boldsymbol{\\bar{C}}$ are the positions those points are constrained to. Note that these are both multiplied by an arbitrarily high weight $\\omega$ such that they are met with more importance. Please fill in the following code for these steps."
   ]
  },
  {
   "cell_type": "code",
   "execution_count": 3,
   "id": "259c258c-6949-4bd0-bbc1-526ce595aa74",
   "metadata": {},
   "outputs": [],
   "source": [
    "fixed_weight = 1e9\n",
    "\n",
    "def append_constraints(D, C, inds):\n",
    "    #as an implementation detail, we have C as a list of constraints, not a matrix so we loop over each constraint with a for loop\n",
    "    D_prime = None\n",
    "    for const in C:\n",
    "        pass\n",
    "        #fill in here\n",
    "    return D_prime\n",
    "\n",
    "def append_weights(L, C, inds):\n",
    "    #here we do the same for loop as above but we care about the indices of the constraints, not the constraints themselves\n",
    "    L_prime = None\n",
    "    n_pts = len(L)\n",
    "    for i in inds:\n",
    "        pass\n",
    "        #fill in here\n",
    "    return L_prime"
   ]
  },
  {
   "cell_type": "markdown",
   "id": "33f24911-edfd-43e0-88d4-b937e605092a",
   "metadata": {},
   "source": [
    "## Step 4: Append Constraints and Weights\n",
    "\n",
    "Finally, we will perform the inverse transformation back to the demonstration space. Usually, to perform inverse transformation, the matrix inversion ($\\boldsymbol{A}^{-1}$) is used. However, that is only able to be used with square matrices. Since we have concatenated constraints to the $\\boldsymbol{L}$ matrix, it is no longer square and we cannot use this method. Therefore, we use the psuedo-inverse (denoted $\\boldsymbol{A}^{+}$) instead.\n",
    "\n",
    "\\begin{equation}\n",
    "\\boldsymbol{P}' = \\boldsymbol{L}'^+ \\boldsymbol{\\Delta}'\n",
    "\\end{equation}\n",
    "\n",
    "Please fill in the following function to complete the pseudo-inverse. Note that the paper recommends solving using a least-squares approach (an optimization which solves this quickly, see `np.linalg.lstsq` for details)."
   ]
  },
  {
   "cell_type": "code",
   "execution_count": 4,
   "id": "3a66b727-bff3-4976-ab5d-5039fa0b89ef",
   "metadata": {},
   "outputs": [],
   "source": [
    "def cartesian_transform(L_prime, D_prime):\n",
    "    new_traj = None\n",
    "    #fill in here\n",
    "    return new_traj"
   ]
  },
  {
   "cell_type": "markdown",
   "id": "9d4847ef-e510-46c9-a61c-23c7b94d7a9d",
   "metadata": {},
   "source": [
    "## Putting it all together\n",
    "\n",
    "Now, we will combine everything together into a single function. Calling this function, which takes a trajectory (a vector of points), as well as constraints (represented by 2 lists: one with points to constrain to, the other with indices for these constrained points), and returns the LTE reproduction."
   ]
  },
  {
   "cell_type": "code",
   "execution_count": 5,
   "id": "e2bc9c94-02c9-489c-9956-8b97f66ae69d",
   "metadata": {},
   "outputs": [],
   "source": [
    "def LTE(P, C, inds):\n",
    "    n_pts, n_dims = np.shape(P)\n",
    "    L = generate_laplacian(n_pts)\n",
    "    D = laplacian_transform(L, P)\n",
    "    D_prime = append_constraints(D, C, inds)\n",
    "    L_prime = append_weights(L, C, inds)\n",
    "    new_P = cartesian_transform(L_prime, D_prime)\n",
    "    return new_P"
   ]
  },
  {
   "cell_type": "markdown",
   "id": "78f3ee4d-d019-4d10-9971-6f3e1e93e6b6",
   "metadata": {},
   "source": [
    "## Testing\n",
    "\n",
    "We will test LTE with a simulated 2D and 3D trajectory. Try in 2D first and check to make sure it works first. What you should see is the trajectory maintaining the same shape, but deforming in order to meet the given constraints. Once you believe the 2D version is good, try the 3D version and it should work as well! There is no need to modify the code we've written, as it will work in any number of dimensions. Let us know once you are finished."
   ]
  },
  {
   "cell_type": "code",
   "execution_count": 6,
   "id": "abf58b55-7904-4390-a9d7-3136f4bb48de",
   "metadata": {},
   "outputs": [],
   "source": [
    "def main2D():\n",
    "    # demonstration\n",
    "    num_points = 50\n",
    "    t = np.linspace(0, 10, num_points).reshape((num_points, 1))\n",
    "    x_demo = np.sin(t) + 0.01 * t**2 - 0.05 * (t-5)**2\n",
    "    y_demo = np.cos(t) - 0.01 * t - 0.03 * t**2\n",
    "    \n",
    "    traj = np.hstack((x_demo, y_demo))\n",
    "    \n",
    "    new_traj = LTE(traj, [np.array([x_demo[0], y_demo[0]]), np.array([x_demo[-1], y_demo[-1]])], [0, num_points-1])\n",
    "    \n",
    "    new_traj2 = LTE(traj, [np.array([x_demo[0]+0.5, y_demo[0]-0.2]), np.array([x_demo[-1], y_demo[-1]])], [0, num_points-1])\n",
    "    \n",
    "    new_traj3 = LTE(traj, [np.array([x_demo[0]+0.5, y_demo[0]-0.2]), np.array([x_demo[20]-0.1, y_demo[20]-0.3]), np.array([x_demo[-1], y_demo[-1]+0.2])], [0, 20, num_points-1])\n",
    "    \n",
    "    plt.rcParams['figure.figsize'] = (6.5, 6.5)\n",
    "    fig, axs = plt.subplots(2, 2)\n",
    "    axs[0][0].set_title('Demonstration')\n",
    "    axs[1][0].set_title('Same Constraints')\n",
    "    axs[0][1].set_title('New Initial Point')\n",
    "    axs[1][1].set_title('New Initial, Final and Viapoint')\n",
    "    axs[0][0].plot(traj[:, 0], traj[:, 1], 'k', lw=3)\n",
    "    axs[1][0].plot(traj[:, 0], traj[:, 1], 'k', lw=3)\n",
    "    axs[0][1].plot(traj[:, 0], traj[:, 1], 'k', lw=3)\n",
    "    axs[1][1].plot(traj[:, 0], traj[:, 1], 'k', lw=3)\n",
    "    \n",
    "    axs[1][0].plot(new_traj[:, 0], new_traj[:, 1], 'm', lw=3)\n",
    "    axs[1][0].plot(x_demo[0], y_demo[0], 'k.', ms=10)\n",
    "    axs[1][0].plot(x_demo[-1], y_demo[-1], 'k.', ms=10)\n",
    "    axs[1][0].plot(x_demo[0], y_demo[0], 'rx', ms=10, mew=2)\n",
    "    axs[1][0].plot(x_demo[-1], y_demo[-1], 'rx', ms=10, mew=2)\n",
    "    \n",
    "    axs[0][1].plot(new_traj2[:, 0], new_traj2[:, 1], 'g', lw=3)\n",
    "    axs[0][1].plot(x_demo[0], y_demo[0], 'k.', ms=10)\n",
    "    axs[0][1].plot(x_demo[-1], y_demo[-1], 'k.', ms=10)\n",
    "    axs[0][1].plot(x_demo[0]+0.5, y_demo[0]-0.2, 'rx', ms=10, mew=2)\n",
    "    axs[0][1].plot(x_demo[-1], y_demo[-1], 'rx', ms=10, mew=2)\n",
    "    \n",
    "    axs[1][1].plot(new_traj3[:, 0], new_traj3[:, 1], 'b', lw=3)\n",
    "    axs[1][1].plot(x_demo[0], y_demo[0], 'k.', ms=10)\n",
    "    axs[1][1].plot(x_demo[20], y_demo[20], 'k.', ms=10)\n",
    "    axs[1][1].plot(x_demo[-1], y_demo[-1], 'k.', ms=10)\n",
    "    axs[1][1].plot(x_demo[0]+0.5, y_demo[0]-0.2, 'rx', ms=10, mew=2)\n",
    "    axs[1][1].plot(x_demo[20]-0.1, y_demo[20]-0.3, 'rx', ms=10, mew=2)\n",
    "    axs[1][1].plot(x_demo[-1], y_demo[-1]+0.2, 'rx', ms=10, mew=2)\n",
    "    \n",
    "    plt.show()\n",
    "    \n",
    "def main3D():\n",
    "    # demonstration\n",
    "    num_points = 50\n",
    "    t = np.linspace(0, 10, num_points).reshape((num_points, 1))\n",
    "    x_demo = np.sin(t) + 0.01 * t**2 - 0.05 * (t-5)**2\n",
    "    y_demo = np.cos(t) - 0.01 * t - 0.03 * t**2\n",
    "    z_demo = 2 * np.cos(t) * np.sin(t) - 0.01 * t**1.5 + 0.03 * t**2\n",
    "    \n",
    "    traj = np.hstack((x_demo, y_demo, z_demo))\n",
    "    \n",
    "    new_traj = LTE(traj, [np.array([x_demo[0] + 0.5, y_demo[0] - 0.5, z_demo[0] + 0.5]), np.array([x_demo[-1], y_demo[-1], z_demo[-1]])], [0, num_points-1])\n",
    "    \n",
    "    fig = plt.figure()\n",
    "    ax = fig.add_subplot(1, 1, 1, projection='3d')\n",
    "    ax.plot(x_demo.flatten(), y_demo.flatten(), z_demo.flatten(), 'k', lw=3)\n",
    "    ax.plot(new_traj[:, 0].flatten(), new_traj[:, 1].flatten(), new_traj[:, 2].flatten(), 'm', lw=3)\n",
    "    ax.plot(x_demo[0], y_demo[0], z_demo[0], 'k.', ms=10)\n",
    "    ax.plot(x_demo[-1], y_demo[-1], z_demo[-1], 'k.', ms=10)\n",
    "    ax.plot(new_traj[0, 0], new_traj[0, 1], new_traj[0, 2], 'rx', ms=10, mew=2)\n",
    "    ax.plot(new_traj[-1, 0], new_traj[-1, 1], new_traj[-1, 2], 'rx', ms=10, mew=2)\n",
    "    \n",
    "    plt.show()"
   ]
  },
  {
   "cell_type": "code",
   "execution_count": null,
   "id": "c57408b9-a24d-4967-9cdf-946a8ec7185f",
   "metadata": {},
   "outputs": [],
   "source": [
    "main2D()"
   ]
  },
  {
   "cell_type": "code",
   "execution_count": null,
   "id": "0b408d32-4cd8-4939-b030-f46edf7fb664",
   "metadata": {},
   "outputs": [],
   "source": [
    "main3D()"
   ]
  },
  {
   "cell_type": "code",
   "execution_count": null,
   "id": "306637c4-5504-4173-a5ff-ee9c0290f511",
   "metadata": {},
   "outputs": [],
   "source": []
  }
 ],
 "metadata": {
  "kernelspec": {
   "display_name": "Python 3 (ipykernel)",
   "language": "python",
   "name": "python3"
  },
  "language_info": {
   "codemirror_mode": {
    "name": "ipython",
    "version": 3
   },
   "file_extension": ".py",
   "mimetype": "text/x-python",
   "name": "python",
   "nbconvert_exporter": "python",
   "pygments_lexer": "ipython3",
   "version": "3.10.12"
  }
 },
 "nbformat": 4,
 "nbformat_minor": 5
}
